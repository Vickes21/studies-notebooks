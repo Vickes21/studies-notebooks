{
  "nbformat": 4,
  "nbformat_minor": 0,
  "metadata": {
    "colab": {
      "provenance": [],
      "toc_visible": true,
      "include_colab_link": true
    },
    "kernelspec": {
      "name": "python3",
      "display_name": "Python 3"
    },
    "language_info": {
      "name": "python"
    }
  },
  "cells": [
    {
      "cell_type": "markdown",
      "metadata": {
        "id": "view-in-github",
        "colab_type": "text"
      },
      "source": [
        "<a href=\"https://colab.research.google.com/github/Vickes21/studies-notebooks/blob/main/Gabarito_RA1_Individual_Segunda_2024_1.ipynb\" target=\"_parent\"><img src=\"https://colab.research.google.com/assets/colab-badge.svg\" alt=\"Open In Colab\"/></a>"
      ]
    },
    {
      "cell_type": "markdown",
      "source": [
        "# Avaliação em INDIVIDUAL RA1 - 2024-1\n",
        "\n",
        "**Antes de começar, leia estas instruções cuidadosamente.**\n",
        "Esta avaliação é individual. Você poderá consultar qualquer fonte disponível na biblioteca, suas anotações ou na internet. Mas, não poderá consultar outras pessoas.\n",
        "\n",
        "Não existirão prorrogações de prazo de entrega.\n",
        "\n",
        "Trabalhos idênticos entregues por pessoas, diferentes, serão anulados.\n",
        "\n",
        "Todos os trabalhos serão entregues em uma cópia deste caderno de atividades na forma de um link postado no AVA da instituição (Canvas). Todos os enunciados devem ser preservados e você deverá inserir uma célula de textos com o **nome de todos os integrantes do grupo, em ordem alfabética**, logo após esta célula de texto de instruções.\n",
        "\n",
        "Qualquer alteração do caderno contendo as suas respostas que seja registrada após a data de postagem provocará a anulação da avaliação.\n",
        "\n",
        "Você poderá usar, neste notebook, apenas a linguagem python limitada ao uso das seguintes bibliotecas: numpy, sympy, matplotlib, ipWidgets e IPython. Todo e qualquer gráfico deverá ser criado usando o Python.\n",
        "\n",
        "Entrega será realizada com a postagem de um link para um ambiente de execução, no AVA da institução. Neste link o seu caderno deve permitir ser executado (permissão de leitor). Serão aceitos links diretos ao ambiente do Google Colaboratory, ou Links a um caderno do Google Colaboratory que tenha sido salvo pelo próprio Google Colaboratory no GitHub. Links para outro ambiente, ou que requeiram qualquer tipo de download, cliques extras, ou ainda, que requeiram aprovação para acesso, provocarão a nota zero na avaliação.\n",
        "\n",
        "Se você encontrar algo errado nesta avaliação simplesmente anote suas observações na própria questão. Suas observações serão consideradas durante a avaliação e, em caso de pertinência, poderão encejar a anulação do item, ou questão, a critério do professor.\n",
        "\n",
        "Não é permitido usar qualquer técnica matemática baseada em derivação, ou que fuja dos conteúdos apresenados em aula referente ao estudo de limites.\n",
        "\n",
        "**Lembrem-se a interpretação faz parte da questão.**"
      ],
      "metadata": {
        "id": "IYWLM47FgvAt"
      }
    },
    {
      "cell_type": "markdown",
      "source": [
        "## Questões\n",
        "\n",
        "Usando apenas álgebra encontre o limites solicitados a seguir e faça uma análise do resultado encontrados. Para fazer a análise você pode usar as ferramentas que desejar, desde que seja possível verificar a validade das suas afirmações usando apenas este caderno de avaliação.\n",
        "\n",
        "Lembre-se você deve usar notação matemática na sua resposta. O que implica no uso de Latex neste caderno de avaliação.\n",
        "\n",
        "Observe que o cálculo do valor de tendência do limite, usando uma calculadora, site, ou ferramenta qualquer, por si só não pode ser usado como argumento na sua análise. Isso quer dizer que justificativas como o limite é $w$ porque o Sympy disse que era esse valor, não serão aceitas.\n",
        "\n",
        "1. **Primeira Questão:**\n",
        "\n",
        "   $$\\lim_{{x \\to 0}} \\frac{1 - \\cos(x)}{x^2}$$\n",
        "\n",
        "2. **Segunda Questão:**\n",
        "\n",
        "   $$\\lim_{{x \\to 1}} \\frac{\\sqrt{x + 8} - 3}{x^2 - 1}$$\n",
        "\n",
        "3. **Terceira Questão:**\n",
        "  $$\\lim_{h \\to 0} \\frac{(2 + h)^3 - 8}{h}$$\n",
        "\n",
        "4. **Quarta Questão:**\n",
        "$$\\lim_{t \\to 0} \\left( \\frac{1}{t\\sqrt{t + 1}} - \\frac{1}{t} \\right)$$\n",
        "\n",
        "**Rúbrica de avaliação**: cada limite corretamente determinado com a algebra demonstrada em notação matemática 1 ponto; cada análise consistente 1,5 pontos. Total 2.5 pontos por questão implicando em, no máximo 10 pontos."
      ],
      "metadata": {
        "id": "Hffk6Rtmhaga"
      }
    },
    {
      "cell_type": "markdown",
      "source": [
        "### **Solução do Primeiro Limite:**\n",
        "\n",
        "   $$\\lim_{{x \\to 0}} \\frac{1 - \\cos(x)}{x^2}$$\n",
        "\n",
        "   Para resolver este limite, vamos usar a identidade trigonométrica e a propriedade fundamental dos limites. Primeiramente, transformamos $1 - \\cos(x)$ usando a identidade trigonométrica $1 - \\cos(x) = 2\\sin^2(\\frac{x}{2})$:\n",
        "\n",
        "   $$\\lim_{{x \\to 0}} \\frac{2\\sin^2(\\frac{x}{2})}{x^2}$$\n",
        "\n",
        "   Agora, fazemos uma mudança de variável $u = \\frac{x}{2}$, que implica $x = 2u$ e quando $x \\to 0$, então $u \\to 0$:\n",
        "\n",
        "   $$\\lim_{{u \\to 0}} \\frac{2\\sin^2(u)}{(2u)^2}$$\n",
        "\n",
        "   Simplificando a expressão, obtemos:\n",
        "\n",
        "   $$\\lim_{{u \\to 0}} \\frac{2\\sin^2(u)}{4u^2} = \\frac{1}{2} \\lim_{{u \\to 0}} \\frac{\\sin^2(u)}{u^2}$$\n",
        "\n",
        "   Podemos então usar a propriedade do limite de $\\sin(u)$ sobre $u$:\n",
        "\n",
        "   $$\\frac{1}{2} \\lim_{{u \\to 0}} \\left(\\frac{\\sin(u)}{u}\\right)^2$$\n",
        "\n",
        "   Sabendo que $\\lim_{{u \\to 0}} \\frac{\\sin(u)}{u} = 1$, obtemos:\n",
        "\n",
        "   $$\\frac{1}{2} \\cdot 1^2 = \\frac{1}{2}$$\n",
        "\n",
        "   Portanto, o limite é $\\frac{1}{2}$.\n",
        "\n",
        "   **Ou podemos fazer**\n",
        "   $$\\lim_{{x \\to 0}} \\frac{1 - \\cos(x)}{x^2}$$\n",
        "   **Resposta primeira questão:**\n",
        "   $$\\lim_{{x \\to 0}} \\frac{1 - \\cos(x)}{x^2} * \\frac{1 + cos(x)}{1 + cos(x)}$$\n",
        "\n",
        "   $$\\lim_{{x \\to 0}} \\frac{1^2 - cos^2x}{x^2 (1 + cos x)}$$\n",
        "   Aplicando a identidade fundamental da trigonometria:\n",
        "\n",
        "  $$sin^2 x + cos^2 x = 1 $$\n",
        "  $$sin^2 x = 1 - cos^2 x $$\n",
        "  $$\\lim_{{x \\to 0}} \\frac {sin^2 x}{x^2(1 + cos x)} $$\n",
        "  Aplicando a propriedade de multiplicação de limites e a propriedade da potência de limites:\n",
        "  $$(\\lim_{{x \\to 0}} \\frac{senx}{x2})^2 *\\lim_{{x \\to 0}} \\frac {1}{(1 + cos x)} $$\n",
        "  Aplicando o limite fundamental: $$\\lim_{{x \\to 0}} \\frac {sen x}{x} = 1 $$\n",
        "\n",
        "  Logo:\n",
        "  $$(1)^2 * \\frac {1}{cos 0} = 1 * \\frac{1}{1 + 1}$$\n",
        "  $$ = \\frac {1}{2}$$\n",
        "\n"
      ],
      "metadata": {
        "id": "C5985jUpghrW"
      }
    },
    {
      "cell_type": "markdown",
      "source": [
        "### **Solução do Segundo Limite:**\n",
        "\n",
        "   $$\\lim_{{x \\to 1}} \\frac{\\sqrt{x + 8} - 3}{x^2 - 1}$$\n",
        "\n",
        "   Neste caso, temos uma indeterminação do tipo 0/0. Para resolver, usaremos a técnica de racionalização do numerador:\n",
        "\n",
        "   $$\\lim_{{x \\to 1}} \\frac{\\sqrt{x + 8} - 3}{x^2 - 1} \\cdot \\frac{\\sqrt{x + 8} + 3}{\\sqrt{x + 8} + 3}$$\n",
        "\n",
        "   Multiplicando o numerador e o denominador pela conjugação do numerador, temos:\n",
        "\n",
        "   $$\\lim_{{x \\to 1}} \\frac{x + 8 - 9}{(x^2 - 1)(\\sqrt{x + 8} + 3)}$$\n",
        "\n",
        "   Simplificando o numerador, obtemos:\n",
        "\n",
        "   $$\\lim_{{x \\to 1}} \\frac{x - 1}{(x - 1)(x + 1)(\\sqrt{x + 8} + 3)}$$\n",
        "\n",
        "   Cancelando $(x - 1)$ tanto no numerador quanto no denominador:\n",
        "\n",
        "   $$\\lim_{{x \\to 1}} \\frac{1}{(x + 1)(\\sqrt{x + 8} + 3)}$$\n",
        "\n",
        "   Substituindo $x$ por 1, encontramos o valor do limite:\n",
        "\n",
        "   $$\\frac{1}{(1 + 1)(\\sqrt{1 + 8} + 3)} = \\frac{1}{2 \\cdot 6} = \\frac{1}{12}$$\n",
        "\n",
        "   Então, o limite é $\\frac{1}{12}$.\n",
        "\n",
        "3. **Solução do Terceiro Limite**\n",
        "\n",
        "$$\\lim_{h \\to 0} \\frac{(2 + h)^3 - 8}{h}$$\n",
        "\n",
        "$$\\begin{align*}\n",
        "\\lim_{h \\to 0} \\frac{(2 + h)^3 - 8}{h} &= \\lim_{h \\to 0} \\frac{(2 + h)^3 - 2^3}{h} \\\\\n",
        "&= \\lim_{h \\to 0} \\frac{(2 + h - 2)((2 + h)^2 + 2(2 + h) + 4)}{h} \\\\\n",
        "&= \\lim_{h \\to 0} \\frac{h((2 + h)^2 + 2(2 + h) + 4)}{h} \\\\\n",
        "&= \\lim_{h \\to 0} ((2 + h)^2 + 2(2 + h) + 4) \\\\\n",
        "&= 2^2 + 2(2) + 4 = 12.\n",
        "\\end{align*}\n",
        "$$\n",
        "\n",
        "4. Solução do Quarto limite\n",
        "\n",
        "$$\\lim_{t \\to 0} \\left( \\frac{1}{t\\sqrt{t + 1}} - \\frac{1}{t} \\right)$$\n",
        "\n",
        "$$\\begin{align*}\n",
        "\\lim_{t \\to 0} \\left( \\frac{1}{t\\sqrt{t + 1}} - \\frac{1}{t} \\right) &= \\lim_{t \\to 0} \\left( \\frac{1 - \\sqrt{t + 1}}{t\\sqrt{t + 1}} + \\frac{\\sqrt{t + 1}}{t\\sqrt{t + 1}} - \\frac{1}{t} \\right) \\\\\n",
        "&= \\lim_{t \\to 0} \\left( \\frac{1 - (\\sqrt{t + 1})(1 + \\sqrt{t + 1})}{t\\sqrt{t + 1}} + \\frac{1 + \\sqrt{t + 1}}{t\\sqrt{t + 1}} \\right) \\\\\n",
        "&= \\lim_{t \\to 0} \\left( \\frac{1 - (1 + t)}{t\\sqrt{t + 1} + t(1 + \\sqrt{t + 1})} \\right) \\\\\n",
        "&= \\lim_{t \\to 0} \\left( \\frac{-t}{t\\sqrt{t + 1} + t(1 + \\sqrt{t + 1})} \\right) \\\\\n",
        "&= \\lim_{t \\to 0} \\left( \\frac{-1}{\\sqrt{t + 1} + (1 + \\sqrt{t + 1})} \\right) \\\\\n",
        "&= \\frac{-1}{\\sqrt{1 + 1}} = -\\frac{1}{2}.\n",
        "\\end{align*}\n",
        "$$\n",
        "\n",
        "\n",
        "As análises podem ser feitas por meio da análise gráfica, ou da ánálise dos limites laterais (aproximações pela esquerda e pela direita. Serão avaliadas de acordo com o que for apresentado por cada aluno.\n"
      ],
      "metadata": {
        "id": "c-DAa3NQVV9I"
      }
    },
    {
      "cell_type": "markdown",
      "source": [
        "### **Solução do Terceiro Limite**\n",
        "\n",
        "$$\\lim_{h \\to 0} \\frac{(2 + h)^3 - 8}{h}$$\n",
        "\n",
        "$$\\begin{align*}\n",
        "\\lim_{h \\to 0} \\frac{(2 + h)^3 - 8}{h} &= \\lim_{h \\to 0} \\frac{(2 + h)^3 - 2^3}{h} \\\\\n",
        "&= \\lim_{h \\to 0} \\frac{(2 + h - 2)((2 + h)^2 + 2(2 + h) + 4)}{h} \\\\\n",
        "&= \\lim_{h \\to 0} \\frac{h((2 + h)^2 + 2(2 + h) + 4)}{h} \\\\\n",
        "&= \\lim_{h \\to 0} ((2 + h)^2 + 2(2 + h) + 4) \\\\\n",
        "&= 2^2 + 2(2) + 4 = 12.\n",
        "\\end{align*}\n",
        "$$\n",
        "\n"
      ],
      "metadata": {
        "id": "bbgEd5_tVfwm"
      }
    },
    {
      "cell_type": "markdown",
      "source": [
        "### Solução do Quarto limite\n",
        "\n",
        "$$\\lim_{t \\to 0} \\left( \\frac{1}{t\\sqrt{t + 1}} - \\frac{1}{t} \\right)$$\n",
        "\n",
        "$$\\begin{align*}\n",
        "\\lim_{t \\to 0} \\left( \\frac{1}{t\\sqrt{t + 1}} - \\frac{1}{t} \\right) &= \\lim_{t \\to 0} \\left( \\frac{1 - \\sqrt{t + 1}}{t\\sqrt{t + 1}} + \\frac{\\sqrt{t + 1}}{t\\sqrt{t + 1}} - \\frac{1}{t} \\right) \\\\\n",
        "&= \\lim_{t \\to 0} \\left( \\frac{1 - (\\sqrt{t + 1})(1 + \\sqrt{t + 1})}{t\\sqrt{t + 1}} + \\frac{1 + \\sqrt{t + 1}}{t\\sqrt{t + 1}} \\right) \\\\\n",
        "&= \\lim_{t \\to 0} \\left( \\frac{1 - (1 + t)}{t\\sqrt{t + 1} + t(1 + \\sqrt{t + 1})} \\right) \\\\\n",
        "&= \\lim_{t \\to 0} \\left( \\frac{-t}{t\\sqrt{t + 1} + t(1 + \\sqrt{t + 1})} \\right) \\\\\n",
        "&= \\lim_{t \\to 0} \\left( \\frac{-1}{\\sqrt{t + 1} + (1 + \\sqrt{t + 1})} \\right) \\\\\n",
        "&= \\frac{-1}{\\sqrt{1 + 1}} = -\\frac{1}{2}.\n",
        "\\end{align*}\n",
        "$$\n",
        "\n",
        "\n"
      ],
      "metadata": {
        "id": "A1ccSTaCVm7Y"
      }
    },
    {
      "cell_type": "markdown",
      "source": [
        "As análises podem ser feitas por meio da análise gráfica, ou da ánálise dos limites laterais (aproximações pela esquerda e pela direita. Serão avaliadas de acordo com o que for apresentado por cada aluno.\n"
      ],
      "metadata": {
        "id": "IhdeU66tVqpl"
      }
    }
  ]
}