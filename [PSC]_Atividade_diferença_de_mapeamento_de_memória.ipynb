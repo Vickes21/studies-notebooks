{
  "nbformat": 4,
  "nbformat_minor": 0,
  "metadata": {
    "colab": {
      "provenance": [],
      "authorship_tag": "ABX9TyOk88e5TxGrXzI72JW/tA5Z",
      "include_colab_link": true
    },
    "kernelspec": {
      "name": "python3",
      "display_name": "Python 3"
    },
    "language_info": {
      "name": "python"
    }
  },
  "cells": [
    {
      "cell_type": "markdown",
      "metadata": {
        "id": "view-in-github",
        "colab_type": "text"
      },
      "source": [
        "<a href=\"https://colab.research.google.com/github/Vickes21/studies-notebooks/blob/main/%5BPSC%5D_Atividade_diferen%C3%A7a_de_mapeamento_de_mem%C3%B3ria.ipynb\" target=\"_parent\"><img src=\"https://colab.research.google.com/assets/colab-badge.svg\" alt=\"Open In Colab\"/></a>"
      ]
    },
    {
      "cell_type": "code",
      "execution_count": 4,
      "metadata": {
        "colab": {
          "base_uri": "https://localhost:8080/"
        },
        "id": "jvZEbk2w8ui2",
        "outputId": "cada99a7-d318-4d82-b415-1071a176908b"
      },
      "outputs": [
        {
          "output_type": "execute_result",
          "data": {
            "text/plain": [
              "2.0"
            ]
          },
          "metadata": {},
          "execution_count": 4
        }
      ],
      "source": [
        "physical_page_count = 8\n",
        "virtual_page_count = 16\n",
        "physical_address = virtual_page_count / physical_page_count\n",
        "physical_address\n"
      ]
    },
    {
      "cell_type": "markdown",
      "source": [
        "###Mapeamento Direto\n",
        "Para cada bloco na memória"
      ],
      "metadata": {
        "id": "Ot0lMfKc_R_Q"
      }
    },
    {
      "cell_type": "markdown",
      "source": [
        "\n",
        "\n",
        "\n",
        "\n",
        "\n",
        "\n",
        "\n",
        "\n",
        "\n",
        "\n",
        "\n",
        "\n",
        "\n",
        "\n",
        "\n",
        "\n",
        "\n",
        "\n",
        "\n",
        "\n",
        "\n",
        "\n",
        "\n",
        "\n",
        "\n",
        "\n",
        "\n",
        "\n",
        "\n",
        "\n",
        "\n",
        "\n",
        "\n",
        "\n",
        "\n",
        "\n",
        "\n",
        "\n",
        "\n",
        "\n",
        "\n",
        "\n",
        "\n",
        "\n",
        "\n",
        "\n",
        "\n",
        "\n",
        "\n",
        "\n",
        "\n",
        "\n",
        "\n",
        "No contexto da memória computacional, especialmente quando falamos de memória cache, existem três técnicas principais para mapear os dados da memória principal para a memória cache: Mapeamento Direto, Mapeamento Associativo e Mapeamento Associativo por Conjuntos. Vamos explorar cada uma delas com exemplos:\n",
        "\n",
        "1. Mapeamento Direto\n",
        "No mapeamento direto, cada bloco de memória principal é mapeado para um único bloco específico na cache. A posição na cache é determinada por uma função de mapeamento, que geralmente é o resto da divisão do endereço do bloco de memória pelo número total de blocos na cache.\n",
        "\n",
        "Exemplo: Suponha uma cache com 128 blocos e um endereço de memória que é 1500. O bloco para o qual o dado será mapeado na cache será calculado como:\n",
        "Bloco na cache\n",
        "=\n",
        "1500\n",
        "m\n",
        "o\n",
        "d\n",
        "\n",
        "\n",
        "128\n",
        "=\n",
        "84\n",
        "Bloco na cache=1500mod128=84\n",
        "Portanto, o bloco de memória 1500 sempre será mapeado para o bloco 84 na cache, independentemente de outras considerações.\n",
        "\n",
        "2. Mapeamento Associativo\n",
        "No mapeamento associativo, qualquer bloco de memória pode ser mapeado para qualquer bloco na cache. Não há restrições ou funções de mapeamento específicas. A decisão de onde armazenar um bloco é feita com base na disponibilidade de espaço na cache e na política de substituição (como LRU - Least Recently Used).\n",
        "\n",
        "Exemplo: Se uma cache opera com mapeamento totalmente associativo e um bloco de memória precisa ser carregado na cache, o controlador de cache escolhe qualquer bloco vazio disponível ou substitui um bloco existente de acordo com a política de substituição, sem restrições fixas sobre a localização do bloco.\n",
        "\n",
        "3. Mapeamento Associativo por Conjuntos\n",
        "O mapeamento associativo por conjuntos é um meio-termo entre o mapeamento direto e o associativo total. A cache é dividida em vários conjuntos, e cada bloco de memória é mapeado para um conjunto específico, mas dentro desse conjunto, ele pode ser colocado em qualquer uma das linhas disponíveis.\n",
        "\n",
        "Exemplo: Considere uma cache com 128 blocos divididos em 16 conjuntos, cada um com 8 blocos. Um endereço de memória 1500 seria mapeado para um conjunto específico:\n",
        "Conjunto\n",
        "=\n",
        "1500\n",
        "m\n",
        "o\n",
        "d\n",
        "\n",
        "\n",
        "16\n",
        "=\n",
        "4\n",
        "Conjunto=1500mod16=4\n",
        "O bloco de memória 1500 pode ser armazenado em qualquer um dos 8 blocos do conjunto 4, com a escolha específica dependendo da política de substituição e da disponibilidade de espaço dentro desse conjunto.\n",
        "\n",
        "Conclusão\n",
        "Mapeamento Direto: Simples e rápido, mas pode causar muitos conflitos se muitos dados acessados frequentemente mapeiam para o mesmo bloco.\n",
        "Mapeamento Associativo: Flexível e minimiza conflitos, mas é mais caro e pode ser mais lento devido à necessidade de verificar todos os blocos.\n",
        "Mapeamento Associativo por Conjuntos: Equilibra o custo e a performance entre os dois extremos, reduzindo conflitos enquanto mantém uma implementação menos custosa que o mapeamento totalmente associativo."
      ],
      "metadata": {
        "id": "HSj8exc082U_"
      }
    }
  ]
}