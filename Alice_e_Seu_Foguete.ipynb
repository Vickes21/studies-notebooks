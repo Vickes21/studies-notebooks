{
  "nbformat": 4,
  "nbformat_minor": 0,
  "metadata": {
    "colab": {
      "provenance": [],
      "include_colab_link": true
    },
    "kernelspec": {
      "name": "python3",
      "display_name": "Python 3"
    },
    "language_info": {
      "name": "python"
    }
  },
  "cells": [
    {
      "cell_type": "markdown",
      "metadata": {
        "id": "view-in-github",
        "colab_type": "text"
      },
      "source": [
        "<a href=\"https://colab.research.google.com/github/Vickes21/studies-notebooks/blob/main/Alice_e_Seu_Foguete.ipynb\" target=\"_parent\"><img src=\"https://colab.research.google.com/assets/colab-badge.svg\" alt=\"Open In Colab\"/></a>"
      ]
    },
    {
      "cell_type": "markdown",
      "source": [
        "#Exemplo Alice e seu foguete.\n",
        "Alice está pesquisando combustível de foguete e decide lançar um pequeno foguete de testes verticalmente para o alto. O sistema embarcado registra a altura do foguete a cada segundo após o lançamento. Os dados coletados estão apresentados na tabela abaixo:\n",
        "\n",
        "$$\n",
        "\\begin{array}{|c|c|}\n",
        "\\hline\n",
        "\\text{Tempo (s)} & \\text{Altura (m)} \\\\\n",
        "\\hline\n",
        "0 & 0 \\\\\n",
        "1 & 5 \\\\\n",
        "2 & 20 \\\\\n",
        "3 & 45 \\\\\n",
        "4 & 80 \\\\\n",
        "\\hline\n",
        "\\end{array}\n",
        "$$\n",
        "Encontre as funções do espaço, tempo e aceleração."
      ],
      "metadata": {
        "id": "TYfFKx9avsyg"
      }
    },
    {
      "cell_type": "markdown",
      "source": [
        "## Solução\n",
        "\n",
        "Com base nestes dados, Alice gostaria de determinar uma equação para a posição (espaço) do foguete em relação ao tempo. Em seguida, ela deseja calcular a velocidade e a aceleração do foguete em $ t = 3 $ segundos.\n",
        "\n",
        "Solução:\n",
        "\n",
        "Para encontrar a função do espaço $ s(t) $ em relação ao tempo, usamos o método de interpolação de Lagrange para ajustar um polinômio aos pontos fornecidos na tabela.\n",
        "\n",
        "\n",
        "Para uma função do espaço $s(t)$, queremos encontrar um polinômio de segundo grau $s(t) = at^2 + bt + c$ que passe pelos pontos dados. O método de interpolação de Lagrange é uma técnica para encontrar um polinômio que passe por um conjunto específico de pontos.\n",
        "\n",
        "Vamos calcular o polinômio de interpolação de Lagrange utilizando os pontos fornecidos na tabela. Após isso, teremos a função do espaço em relação ao tempo. Vou fazer os cálculos e retornar com o resultado.\n",
        "\n",
        "Para encontrar o polinômio de interpolação de Lagrange, vamos utilizar os pontos fornecidos na tabela:\n",
        "\n",
        "Tempo (s) | Altura (m)\n",
        "--------- | ----------\n",
        "0         | 0\n",
        "1         | 5\n",
        "2         | 20\n",
        "3         | 45\n",
        "4         | 80\n",
        "\n",
        "O polinômio de interpolação de Lagrange é dado por:\n",
        "\n",
        "$$s(t) = \\sum_{i=0}^{n} f(x_i) \\cdot L_i(t)$$\n",
        "\n",
        "Onde $f(x_i)$ é o valor da função nos pontos dados e $L_i(t)$ são os polinômios de Lagrange, definidos por:\n",
        "\n",
        "$$L_i(t) = \\prod_{j=0, j \\neq i}^{n} \\frac{t - x_j}{x_i - x_j}$$\n",
        "\n",
        "O polinômio de Lagrange é definido como:\n",
        "\n",
        "$$ L_i(t) = \\prod_{j=0, j \\neq i}^{n} \\frac{t - t_j}{t_i - t_j} $$\n",
        "\n",
        "Para os pontos dados (0,0), (1,5), (2,20), (3,45), e (4,80), temos os seguintes polinômios de Lagrange:\n",
        "\n",
        "- **Para $t_0 = 0$**:\n",
        "\n",
        "  $$ L_0(t) = \\frac{(t - 1)(t - 2)(t - 3)(t - 4)}{(t_0 - 1)(t_0 - 2)(t_0 - 3)(t_0 - 4)} = \\frac{(t - 1)(t - 2)(t - 3)(t - 4)}{(0 - 1)(0 - 2)(0 - 3)(0 - 4)}$$\n",
        "\n",
        "  $$L_0(t) = \\frac{(t - 1)(t - 2)(t - 3)(t - 4)}{24}$$\n",
        "\n",
        "- **Para $t_1 = 1$**:\n",
        "\n",
        "  $$ L_1(t) = \\frac{(t - 0)(t - 2)(t - 3)(t - 4)}{(t_1 - 0)(t_1 - 2)(t_1 - 3)(t_1 - 4)} =  \\frac{(t - 0)(t - 2)(t - 3)(t - 4)}{(1 - 0)(1 - 2)(1 - 3)(1 - 4)} $$\n",
        "  $$ L_1(t) = \\frac{(t - 0)(t - 2)(t - 3)(t - 4)}{6}$$\n",
        "\n",
        "- **Para $t_2 = 2$**:\n",
        "\n",
        "  $$ L_2(t) = \\frac{(t - 0)(t - 1)(t - 3)(t - 4)}{(t_2 - 0)(t_2 - 1)(t_2 - 3)(t_2 - 4)}= \\frac{(t - 0)(t - 1)(t - 3)(t - 4)}{(2 - 0)(2 - 1)(2 - 3)(2 - 4)} $$\n",
        "\n",
        "  $$ L_2(t) = \\frac{(t - 0)(t - 1)(t - 3)(t - 4)}{4} $$\n",
        "\n",
        "- **Para $t_3 = 3$**:\n",
        "\n",
        "  $$ L_3(t) = \\frac{(t - 0)(t - 1)(t - 2)(t - 4)}{(t_3 - 0)(t_3 - 1)(t_3 - 2)(t_3 - 4)} = \\frac{(t - 0)(t - 1)(t - 2)(t - 4)}{(3 - 0)(3 - 1)(3 - 2)(3 - 4)} $$\n",
        "\n",
        "  $$ L_3(t) = \\frac{(t - 0)(t - 1)(t - 2)(t - 4)}{-6} $$\n",
        "\n",
        "- **Para $t_4 = 4$**:\n",
        "\n",
        "  $$ L_4(t) = \\frac{(t - 0)(t - 1)(t - 2)(t - 3)}{(t_4 - 0)(t_4 - 1)(t_4 - 2)(t_4 - 3)}= \\frac{(t - 0)(t - 1)(t - 2)(t - 3)}{(4 - 0)(4 - 1)(4 - 2)(4 - 3)} $$\n",
        "\n",
        "  $$ L_4(t) \\frac{(t - 0)(t - 1)(t - 2)(t - 3)}{24} $$\n",
        "\n",
        "Agora podemos montar o somatório:\n",
        "\n",
        "$$s(t) = \\sum_{i=0}^{n} f(x_i) \\cdot L_i(t)$$\n",
        "\n",
        "Lembrando que dos dados originais teremos: $$f(t_0)=0;f(t_1)=5;f(t_2)=20;f(t_3)=45;f(t_4)=80;$$\n",
        "  \n",
        "$$s(t) = \\sum_{i=0}^{n} f(x_i) \\cdot L_i(t) = \\left( 0 \\times \\frac{(t - 1)(t - 2)(t - 3)(t - 4)}{24} \\right) +  \\left( 5 \\times \\frac{(t - 0)(t - 2)(t - 3)(t - 4)}{6} \\right)+\\left( 25 \\times \\frac{(t - 0)(t - 1)(t - 3)(t - 4)}{4} \\right)+\\left( 45 \\times \\frac{(t - 0)(t - 1)(t - 2)(t - 4)}{-6} \\right)+\\left( 80 \\times \\frac{(t - 0)(t - 1)(t - 2)(t - 3)}{24} \\right)$$\n",
        "\n",
        "Removendo o primeiro termo já que ele é multiplicado por zero termos:\n",
        "\n",
        "$$s(t) = \\sum_{i=0}^{n} f(x_i) \\cdot L_i(t) = \\left( 5 \\times \\frac{(t - 0)(t - 2)(t - 3)(t - 4)}{6} \\right)+\\left( 25 \\times \\frac{(t - 0)(t - 1)(t - 3)(t - 4)}{4} \\right)+\\left( 45 \\times \\frac{(t - 0)(t - 1)(t - 2)(t - 4)}{-6} \\right)+\\left( 80 \\times \\frac{(t - 0)(t - 1)(t - 2)(t - 3)}{24} \\right)$$\n",
        "\n",
        "Colocando as frações para fora dos parênteses teremos\n",
        "\n",
        "$$s(t) = \\sum_{i=0}^{n} f(x_i) \\cdot L_i(t) = \\frac{5}{6} \\times \\left( (t - 0)(t - 2)(t - 3)(t - 4) \\right)+ \\frac{25}{4} \\left( (t - 0)(t - 1)(t - 3)(t - 4)\\right) - \\frac{45}{6} \\left( (t - 0)(t - 1)(t - 2)(t - 4) \\right)+\\frac{80}{24} \\left((t - 0)(t - 1)(t - 2)(t - 3) \\right)$$\n",
        "\n",
        "Que pode ser simplificado se observarmos que $(t-0)=t$. Logo:\n",
        "\n",
        "$$s(t) = \\sum_{i=0}^{n} f(x_i) \\cdot L_i(t) = \\frac{5}{6} \\times \\left( (t)(t - 2)(t - 3)(t - 4) \\right)+ \\frac{20}{4} \\left( (t)(t - 1)(t - 3)(t - 4)\\right) - \\frac{45}{6} \\left( (t)(t - 1)(t - 2)(t - 4) \\right)+\\frac{80}{24} \\left((t)(t - 1)(t - 2)(t - 3) \\right)$$\n",
        "\n",
        "ou\n",
        "\n",
        "$$s(t) = \\sum_{i=0}^{n} f(x_i) \\cdot L_i(t) = \\frac{5}{6} (t) \\times \\left((t - 2)(t - 3)(t - 4) \\right)+ \\frac{20}{4}(t) \\left((t - 1)(t - 3)(t - 4)\\right) - \\frac{45}{6}(t) \\left( (t - 1)(t - 2)(t - 4) \\right)+\\frac{80}{24}(t)\\left((t - 1)(t - 2)(t - 3) \\right)$$\n",
        "\n",
        "\n",
        "E é neste ponto que nós paramos. A álgebra já está ficando muito complexa e suscetível a erros simples, mas difícieis de encontrar. Então, recorremos aos modelos computacionais.\n",
        "\n",
        "Primeiro com o Sympy."
      ],
      "metadata": {
        "id": "-r6vYQpxwJl_"
      }
    },
    {
      "cell_type": "code",
      "source": [
        "from sympy import symbols, latex, expand\n",
        "from IPython.display import display, Math\n",
        "\n",
        "# Definindo a variável simbólica\n",
        "t = symbols('t')\n",
        "\n",
        "# Dados dos pontos\n",
        "x_values = [0, 1, 2, 3, 4]\n",
        "y_values = [0, 5, 20, 45, 80]\n",
        "\n",
        "# Construindo os termos do polinômio de Lagrange\n",
        "P_lagrange_terms = []\n",
        "for i in range(len(x_values)):\n",
        "    Li = 1\n",
        "    for j in range(len(x_values)):\n",
        "        if j != i:\n",
        "            Li *= (t - x_values[j]) / (x_values[i] - x_values[j])\n",
        "    P_lagrange_terms.append(y_values[i] * Li)\n",
        "\n",
        "# Exibindo cada termo do polinômio de Lagrange em notação matemática\n",
        "lagrange_terms_latex = \" + \".join([f\"\\\\left({latex(term)}\\\\right)\" for term in P_lagrange_terms])\n",
        "display(Math(f\"P(t) = {lagrange_terms_latex}\"))\n",
        "\n",
        "# Simplificando o polinômio de Lagrange\n",
        "P_simplified = expand(sum(P_lagrange_terms))\n",
        "print(\"O polinômio encontrado é: \" )\n",
        "# Exibindo o polinômio simplificado em notação matemática\n",
        "display(Math(f\"P(t) = {latex(P_simplified)}\"))\n"
      ],
      "metadata": {
        "colab": {
          "base_uri": "https://localhost:8080/",
          "height": 137
        },
        "id": "9HiEi8BHQtue",
        "outputId": "a4effdd5-718c-4a31-b0d9-3055c71b9039"
      },
      "execution_count": null,
      "outputs": [
        {
          "output_type": "display_data",
          "data": {
            "text/plain": [
              "<IPython.core.display.Math object>"
            ],
            "text/latex": "$\\displaystyle P(t) = \\left(0\\right) + \\left(5 t \\left(\\frac{4}{3} - \\frac{t}{3}\\right) \\left(\\frac{3}{2} - \\frac{t}{2}\\right) \\left(2 - t\\right)\\right) + \\left(10 t \\left(2 - \\frac{t}{2}\\right) \\left(3 - t\\right) \\left(t - 1\\right)\\right) + \\left(15 t \\left(4 - t\\right) \\left(\\frac{t}{2} - \\frac{1}{2}\\right) \\left(t - 2\\right)\\right) + \\left(20 t \\left(\\frac{t}{3} - \\frac{1}{3}\\right) \\left(\\frac{t}{2} - 1\\right) \\left(t - 3\\right)\\right)$"
          },
          "metadata": {}
        },
        {
          "output_type": "stream",
          "name": "stdout",
          "text": [
            "O polinômio encontrado é: \n"
          ]
        },
        {
          "output_type": "display_data",
          "data": {
            "text/plain": [
              "<IPython.core.display.Math object>"
            ],
            "text/latex": "$\\displaystyle P(t) = 5 t^{2}$"
          },
          "metadata": {}
        }
      ]
    },
    {
      "cell_type": "code",
      "source": [
        "import numpy as np\n",
        "import matplotlib.pyplot as plt\n",
        "import sympy as sp\n",
        "\n",
        "# Definindo a variável simbólica e o polinômio de Lagrange\n",
        "t = sp.symbols('t')\n",
        "P_simplified = 5*t**2\n",
        "\n",
        "# Convertendo o polinômio sympy para uma função que o numpy possa entender\n",
        "P_function = sp.lambdify(t, P_simplified, 'numpy')\n",
        "\n",
        "# Pontos dados\n",
        "x_values = np.array([0, 1, 2, 3, 4])\n",
        "y_values = np.array([0, 5, 20, 45, 80])\n",
        "\n",
        "# Gerando pontos para o gráfico do polinômio\n",
        "t_plot = np.linspace(min(x_values), max(x_values), 400)\n",
        "P_plot = P_function(t_plot)\n",
        "\n",
        "# Criando o gráfico\n",
        "plt.figure(figsize=(10, 6))\n",
        "plt.plot(t_plot, P_plot, label='Polinômio de Lagrange $5t^2$', color='blue')\n",
        "plt.scatter(x_values, y_values, color='red', label='Pontos dados')\n",
        "\n",
        "# Anotando os pontos\n",
        "for (i, j) in zip(x_values, y_values):\n",
        "    plt.text(i, j, f'({i}, {j})')\n",
        "\n",
        "plt.title('Polinômio de Lagrange passando pelos pontos dados')\n",
        "plt.xlabel('Tempo (s)')\n",
        "plt.ylabel('Altura (m)')\n",
        "plt.legend()\n",
        "plt.grid(True)\n",
        "plt.show()"
      ],
      "metadata": {
        "colab": {
          "base_uri": "https://localhost:8080/",
          "height": 565
        },
        "id": "SFJ9z1ooSJmy",
        "outputId": "a4b102d1-25b3-4cbe-9f76-cda8a9d8b86c"
      },
      "execution_count": null,
      "outputs": [
        {
          "output_type": "display_data",
          "data": {
            "text/plain": [
              "<Figure size 1000x600 with 1 Axes>"
            ],
            "image/png": "[encoded data removed]"
          },
          "metadata": {}
        }
      ]
    },
    {
      "cell_type": "markdown",
      "source": [
        "Ou se preferir, podemos usar a biblioteca scipy."
      ],
      "metadata": {
        "id": "IU-2R6IkTlXA"
      }
    },
    {
      "cell_type": "code",
      "source": [
        "from scipy.interpolate import lagrange\n",
        "from sympy import symbols, latex\n",
        "from IPython.display import display, Math\n",
        "\n",
        "# Definindo a variável simbólica para o sympy\n",
        "t = symbols('t')\n",
        "\n",
        "# pontos\n",
        "x_values = np.array([0, 1, 2, 3, 4])\n",
        "y_values = np.array([0, 5, 20, 45, 80])\n",
        "\n",
        "# Usando scipy para encontrar o polinômio de Lagrange\n",
        "P_scipy = lagrange(x_values, y_values)\n",
        "\n",
        "# Convertendo o polinômio de scipy para uma expressão sympy\n",
        "# O polinômio de scipy é dado em ordem decrescente de potências\n",
        "# Precisamos inverter a ordem dos coeficientes para que se alinhem com a representação do sympy\n",
        "P_sympy = sum(coef * t**i for i, coef in enumerate(P_scipy.coef[::-1]))\n",
        "\n",
        "# Exibindo o polinômio encontrado em notação matemática\n",
        "display(Math(f'Logo: P(t) = {latex(P_sympy)}'))\n"
      ],
      "metadata": {
        "colab": {
          "base_uri": "https://localhost:8080/",
          "height": 39
        },
        "id": "RH-_BrsISrbl",
        "outputId": "2d45ade5-a509-4285-ae0d-18feb9be688e"
      },
      "execution_count": null,
      "outputs": [
        {
          "output_type": "display_data",
          "data": {
            "text/plain": [
              "<IPython.core.display.Math object>"
            ],
            "text/latex": "$\\displaystyle Logo: P(t) = 5.00000000000001 t^{2}$"
          },
          "metadata": {}
        }
      ]
    },
    {
      "cell_type": "markdown",
      "source": [
        "Agora que temos a função que passa pelos pontos encontrados por Alice, podemos terminar o exemplo:\n",
        "\n",
        "## Calculando a velocidade\n",
        "\n",
        "Sabemos que a velocidade é a taxa de variação do espaço em relação ao tempo. Também sabemos que a taxa de variação pode ser encontrada com a derivada logo.\n",
        "\n",
        "$$v(s) = \\frac{d}{dt} s(t) =\\frac{d}{dt} 5t^2 = 5 \\frac{d}{dt} t^2 = 10t$$\n",
        "Logo a velocidade em $t=3s$ será\n",
        "$$v(3) = 30 m/s$$\n",
        "\n",
        "## Calculando a aceleração.\n",
        "A aceleração é a taxa de variação da velocidade logo:\n",
        "$$a(s) = \\frac{d}{dt} v(t) =\\frac{d}{dt} 10t = 10 \\frac{d}{dt} t = 10$$\n",
        "Logo a aceleração é uma constante o que significa que:\n",
        "$$a(3) = 10 m/s^2$$\n",
        "\n"
      ],
      "metadata": {
        "id": "66LpQ84eUHY0"
      }
    }
  ]
}