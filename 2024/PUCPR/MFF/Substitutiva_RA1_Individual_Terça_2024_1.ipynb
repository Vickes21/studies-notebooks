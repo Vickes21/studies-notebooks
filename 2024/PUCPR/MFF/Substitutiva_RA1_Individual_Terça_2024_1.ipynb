{
  "nbformat": 4,
  "nbformat_minor": 0,
  "metadata": {
    "colab": {
      "provenance": [],
      "include_colab_link": true
    },
    "kernelspec": {
      "name": "python3",
      "display_name": "Python 3"
    },
    "language_info": {
      "name": "python"
    }
  },
  "cells": [
    {
      "cell_type": "markdown",
      "metadata": {
        "id": "view-in-github",
        "colab_type": "text"
      },
      "source": [
        "<a href=\"https://colab.research.google.com/github/Vickes21/studies-notebooks/blob/main/2024/PUCPR/MFF/Substitutiva_RA1_Individual_Ter%C3%A7a_2024_1.ipynb\" target=\"_parent\"><img src=\"https://colab.research.google.com/assets/colab-badge.svg\" alt=\"Open In Colab\"/></a>"
      ]
    },
    {
      "cell_type": "markdown",
      "source": [
        "# Avaliação De Recuperação INDIVIDUAL RA1 - 2024-1 (substitutiva)\n",
        "\n",
        "**Antes de começar, leia estas instruções cuidadosamente.**\n",
        "Esta avaliação é individual. Você poderá consultar qualquer fonte disponível na biblioteca, suas anotações ou na internet. Mas, não poderá consultar outras pessoas.\n",
        "\n",
        "Não existirão prorrogações de prazo de entrega.\n",
        "\n",
        "**Trabalhos contendo partes idênticas entregues por pessoas, diferentes, serão zerados.**\n",
        "\n",
        "Todos os trabalhos serão entregues em uma cópia deste caderno de atividades na forma de um link postado no AVA da instituição (Canvas). Todos os enunciados devem ser preservados e você deverá inserir uma célula de textos com o **seu nome**, logo após esta célula de texto de instruções.\n",
        "\n",
        "Qualquer alteração do caderno contendo as suas respostas que seja registrada após a data de postagem provocará a anulação da avaliação.\n",
        "\n",
        "Você poderá usar, neste notebook, apenas a linguagem python limitada ao uso das seguintes bibliotecas: numpy, sympy, matplotlib, ipWidgets e IPython. Todo e qualquer gráfico deverá ser criado usando o Python.\n",
        "\n",
        "Entrega será realizada com a postagem de um link para um ambiente de execução, no AVA da institução. Neste link o seu caderno deve permitir ser executado (permissão de leitor). Serão aceitos links diretos ao ambiente do Google Colaboratory, ou Links a um caderno do Google Colaboratory que tenha sido salvo pelo próprio Google Colaboratory no GitHub. Links para outro ambiente, ou que requeiram qualquer tipo de download, cliques extras, ou ainda, que requeiram aprovação para acesso, provocarão o zeramento desta avaliação.\n",
        "\n",
        "Todas as suas simplificações e considerações serão levadas em consideração. Contudo, lembre-se que estas questões devem ser resolvidas com álgebra formal e apenas álgebra.\n",
        "\n",
        "Se você encontrar algo errado nesta avaliação simplesmente anote suas observações na própria questão. Suas observações serão consideradas durante a avaliação e, em caso de pertinência, poderão encejar a anulação do item, ou questão, a critério do professor.\n",
        "\n",
        "Não é permitido usar qualquer técnica matemática baseada em derivação, cálculo numérico, séries de Taylor ou Leibntz, ou que fuja dos conteúdos apresenados em aula referentes ao estudo dos conteúdos referentes a esta avaliação.\n",
        "\n",
        "Esta avaliação aborda os conteúdos referentes a limites, fórmula das diferenças finitas e tangentes.\n",
        "\n",
        "**Lembrem-se a interpretação faz parte da questão.**\n"
      ],
      "metadata": {
        "id": "IYWLM47FgvAt"
      }
    },
    {
      "cell_type": "markdown",
      "source": [
        "## Questões\n",
        "Usando apenas álgebra encontre o limites solicitados a seguir e faça uma análise dos resultados encontrados. Para fazer a análise você pode usar as ferramentas que desejar, desde que seja possível verificar a validade das suas afirmações usando apenas este caderno de avaliação.\n",
        "\n",
        "Lembre-se você deve usar notação matemática na sua resposta. O que implica no uso de Latex nas células de texto deste caderno de avaliação.\n",
        "\n",
        "Observe que o cálculo do valor de tendência do limite, usando uma calculadora, site, ou ferramenta qualquer, por si só não pode ser usado como argumento na sua análise. Isso quer dizer que justificativas como o limite é $w$ porque o Sympy disse que era esse valor, não serão aceitas.\n",
        "\n",
        "### Exercício 1\n",
        "$$ \\lim_{x \\to 0} \\frac{\\sqrt{x+9} - 3}{x} $$\n",
        "\n",
        "### Exercício 2\n",
        "$$ \\lim_{x \\to \\infty} \\frac{25x + 7}{\\sqrt{5x^2 + 2}} $$\n",
        "\n",
        "### Exercício 3\n",
        "$$\n",
        "\\lim_{x \\to 1} f(x) \\text{ onde } f(x) = \\begin{cases}\n",
        "2x+1 & x \\leq 1 \\\\\n",
        "x^2 + 1 & x > 1\n",
        "\\end{cases}\n",
        "$$\n",
        "\n",
        "### Exercício 4\n",
        "$$\\lim_{x \\to -\\infty} (\\sqrt{x^2 - x} - x)$$\n",
        "\n",
        "**Atenção**: o sympy parece não calcular este limite corretamente.\n",
        "\n",
        "### Exercício 5\n",
        "$$ \\lim_{x \\to \\infty} \\frac{4x^2 + 3x - 5}{2x^2 - x + 1} $$\n",
        "\n",
        "**Rúbrica de avaliação**: cada limite corretamente determinado com a algebra demonstrada em notação matemática 1 ponto; cada análise consistente 1 ponto. Total 2 pontos por questão implicando em, no máximo 10 pontos."
      ],
      "metadata": {
        "id": "Hffk6Rtmhaga"
      }
    },
    {
      "cell_type": "markdown",
      "source": [
        "As análises podem ser feitas por meio da análise gráfica, ou da ánálise dos limites laterais (aproximações pela esquerda e pela direita. Serão avaliadas de acordo com o que for apresentado por cada aluno.\n"
      ],
      "metadata": {
        "id": "IhdeU66tVqpl"
      }
    }
  ]
}