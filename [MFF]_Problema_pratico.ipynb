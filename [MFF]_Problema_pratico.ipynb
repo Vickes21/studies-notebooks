{
  "nbformat": 4,
  "nbformat_minor": 0,
  "metadata": {
    "colab": {
      "provenance": [],
      "authorship_tag": "ABX9TyOJPMVDhdPPk/jmeVwcGL2F",
      "include_colab_link": true
    },
    "kernelspec": {
      "name": "python3",
      "display_name": "Python 3"
    },
    "language_info": {
      "name": "python"
    }
  },
  "cells": [
    {
      "cell_type": "markdown",
      "metadata": {
        "id": "view-in-github",
        "colab_type": "text"
      },
      "source": [
        "<a href=\"https://colab.research.google.com/github/Vickes21/studies-notebooks/blob/main/%5BMFF%5D_Problema_pratico.ipynb\" target=\"_parent\"><img src=\"https://colab.research.google.com/assets/colab-badge.svg\" alt=\"Open In Colab\"/></a>"
      ]
    },
    {
      "cell_type": "code",
      "execution_count": null,
      "metadata": {
        "id": "sIwSfgaWHu25"
      },
      "outputs": [],
      "source": [
        "import sympy as sy\n",
        "import numpy as ny\n",
        "x,y,x0,x1,y0,y1,c = sy.symbols('x y x0 x1 y0 y1 c')\n",
        "exp = 2*x**4 - 32*x**3 + 96*x**2 + 100\n",
        "m_exp = (y1 - y0)/(x1 - x0)\n",
        "# sy.plot(exp)\n",
        "\n",
        "def resolve_fn(value):\n",
        "  # value = value/10\n",
        "  result = exp.subs(x,value)\n",
        "  print(\"f(x) = {}\".format(result))\n",
        "  return result\n",
        "\n",
        "\n",
        "i = -1\n",
        "j = 0\n",
        "results = []\n",
        "while i in range(-1,12):\n",
        "  while j in range(0,100):\n",
        "      a = resolve_fn(j/10)\n",
        "\n",
        "      if results[j][\"value\"] > results[j-1][\"value\"]:\n",
        "        print(results[j], 'maior que',  results[j-1])\n",
        "        type = 'asc'\n",
        "\n",
        "      elif results[j][\"value\"] < results[j-1][\"value\"]:\n",
        "        print(results[j], 'menor que',  results[j-1])\n",
        "        type = 'dsc'\n",
        "\n",
        "      results.append({\n",
        "          \"value\": a,\n",
        "          \"type\": type\n",
        "      })\n",
        "\n",
        "      print(results)\n",
        "\n",
        "      j += 1\n",
        "  i += 1\n",
        "\n",
        "\n",
        "\n",
        "\n",
        "# result = m_exp.subs([(y1, resolve_fn(10)), (y0, resolve_fn(0)), (x1, 10), (x0, 0)])\n",
        "# print(\"m = : {}\".format(result))\n",
        "\n"
      ]
    }
  ]
}