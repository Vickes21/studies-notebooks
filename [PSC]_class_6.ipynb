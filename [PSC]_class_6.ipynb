{
  "nbformat": 4,
  "nbformat_minor": 0,
  "metadata": {
    "colab": {
      "provenance": [],
      "authorship_tag": "ABX9TyMluGQ29dgfPh53ltFUW+e2",
      "include_colab_link": true
    },
    "kernelspec": {
      "name": "python3",
      "display_name": "Python 3"
    },
    "language_info": {
      "name": "python"
    }
  },
  "cells": [
    {
      "cell_type": "markdown",
      "metadata": {
        "id": "view-in-github",
        "colab_type": "text"
      },
      "source": [
        "<a href=\"https://colab.research.google.com/github/Vickes21/studies-notebooks/blob/main/%5BPSC%5D_class_6.ipynb\" target=\"_parent\"><img src=\"https://colab.research.google.com/assets/colab-badge.svg\" alt=\"Open In Colab\"/></a>"
      ]
    },
    {
      "cell_type": "markdown",
      "source": [
        "###Memória Virtual - Páginas\n",
        "\n",
        "Para cada cenário calcule a quantidade de bits necessários\n",
        "utilizados para deslocamento dentro da página e\n",
        "endereçamento da página\n",
        "- Pagina 4096 bytes, 256 paginas\n",
        "- Pagina 4096 bytes, 1024 paginas\n",
        "- Pagina 4 bytes, 1024 paginas\n",
        "- Pagina 128 bytes, 262144 paginas\n",
        "- Pagina 4096 bytes, 524288 paginas"
      ],
      "metadata": {
        "id": "CRIxCAMDycSh"
      }
    },
    {
      "cell_type": "code",
      "execution_count": null,
      "metadata": {
        "id": "-XIUi_4_yRqG",
        "colab": {
          "base_uri": "https://localhost:8080/"
        },
        "outputId": "ef9e14ea-7fd4-423a-f851-1f0256dd2d32"
      },
      "outputs": [
        {
          "output_type": "execute_result",
          "data": {
            "text/plain": [
              "(8, 12)"
            ]
          },
          "metadata": {},
          "execution_count": 7
        }
      ],
      "source": [
        "import sympy as sy\n",
        "sy.log(256,2), sy.log(4096,2)"
      ]
    },
    {
      "cell_type": "code",
      "source": [
        "sy.log(4096,2), sy.log(1024,2)"
      ],
      "metadata": {
        "colab": {
          "base_uri": "https://localhost:8080/"
        },
        "id": "ULxrs6HYzN02",
        "outputId": "001b79ee-39ab-4cd3-a308-38a07adbc442"
      },
      "execution_count": null,
      "outputs": [
        {
          "output_type": "execute_result",
          "data": {
            "text/plain": [
              "(12, 10)"
            ]
          },
          "metadata": {},
          "execution_count": 8
        }
      ]
    },
    {
      "cell_type": "code",
      "source": [
        "sy.log(4,2), sy.log(1024,2)"
      ],
      "metadata": {
        "colab": {
          "base_uri": "https://localhost:8080/"
        },
        "outputId": "bd262b2a-eb0f-4bff-baa2-b501ab9a6e85",
        "id": "UQf8rzFh0HfW"
      },
      "execution_count": null,
      "outputs": [
        {
          "output_type": "execute_result",
          "data": {
            "text/plain": [
              "(2, 10)"
            ]
          },
          "metadata": {},
          "execution_count": 9
        }
      ]
    },
    {
      "cell_type": "code",
      "source": [
        "sy.log(128,2), sy.log(262144,2)"
      ],
      "metadata": {
        "colab": {
          "base_uri": "https://localhost:8080/"
        },
        "outputId": "fba61b01-d5f5-4b6b-c44a-f61eb8f0d106",
        "id": "dWhfZSB20HoB"
      },
      "execution_count": null,
      "outputs": [
        {
          "output_type": "execute_result",
          "data": {
            "text/plain": [
              "(7, 18)"
            ]
          },
          "metadata": {},
          "execution_count": 10
        }
      ]
    },
    {
      "cell_type": "code",
      "source": [
        "sy.log(4096,2), sy.log(524288,2)"
      ],
      "metadata": {
        "colab": {
          "base_uri": "https://localhost:8080/"
        },
        "outputId": "3117eb3a-6a2a-4b30-82bb-fd30f2b8afe2",
        "id": "lsceAK380H1G"
      },
      "execution_count": null,
      "outputs": [
        {
          "output_type": "execute_result",
          "data": {
            "text/plain": [
              "(12, 19)"
            ]
          },
          "metadata": {},
          "execution_count": 11
        }
      ]
    },
    {
      "cell_type": "markdown",
      "source": [
        "Considerando um cenario com paginas de 4096 bytes e\n",
        "524288 paginas, determine o byte e a pagina acessada\n",
        "dado os enderecos a seguir\n",
        "- 11895123\n",
        "- 1295123\n",
        "- 22322333\n",
        "- 34211232\n",
        "- 38292632\n",
        "- 92386298\n"
      ],
      "metadata": {
        "id": "fswxQisU1JYK"
      }
    },
    {
      "cell_type": "code",
      "source": [
        "mem_size = sy.log(4096,2) + sy.log(524288,2)\n",
        "mem_size"
      ],
      "metadata": {
        "colab": {
          "base_uri": "https://localhost:8080/",
          "height": 37
        },
        "id": "3RlWNX861P4X",
        "outputId": "46d77268-62cd-4b27-90a3-93128b08a23e"
      },
      "execution_count": null,
      "outputs": [
        {
          "output_type": "execute_result",
          "data": {
            "text/plain": [
              "31"
            ],
            "text/latex": "$\\displaystyle 31$"
          },
          "metadata": {},
          "execution_count": 12
        }
      ]
    },
    {
      "cell_type": "code",
      "source": [
        "adresses = [11895123, 1295123, 22322333, 34211232, 38292632, 92386298]\n",
        "page_size = 4096\n",
        "page_total = 524288\n",
        "results = []\n",
        "for address in adresses:\n",
        "  page = address/page_size\n",
        "  byte = address % page_size\n",
        "  results.append([int(page),byte])\n",
        "\n",
        "results\n",
        "\n"
      ],
      "metadata": {
        "colab": {
          "base_uri": "https://localhost:8080/"
        },
        "id": "7RcdsQbP3YpU",
        "outputId": "df6b0949-68e2-48e6-dddd-282d5194cb4c"
      },
      "execution_count": null,
      "outputs": [
        {
          "output_type": "execute_result",
          "data": {
            "text/plain": [
              "[[2904, 339],\n",
              " [316, 787],\n",
              " [5449, 3229],\n",
              " [8352, 1440],\n",
              " [9348, 3224],\n",
              " [22555, 1018]]"
            ]
          },
          "metadata": {},
          "execution_count": 17
        }
      ]
    },
    {
      "cell_type": "markdown",
      "source": [
        "Página e Byte\n",
        "\n",
        "\n",
        "2904, 339\n",
        "\n",
        "316, 787\n",
        "\n",
        "5449, 3229\n",
        "\n",
        "8352, 1440\n",
        "\n",
        "9348, 3224\n",
        "\n",
        "22555, 1018"
      ],
      "metadata": {
        "id": "EQFF2ZGc32GD"
      }
    }
  ]
}